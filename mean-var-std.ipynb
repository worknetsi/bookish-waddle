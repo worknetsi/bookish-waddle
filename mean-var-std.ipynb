{
 "cells": [
  {
   "cell_type": "code",
   "execution_count": 20,
   "id": "976f600b",
   "metadata": {},
   "outputs": [],
   "source": [
    "import numpy as np"
   ]
  },
  {
   "cell_type": "code",
   "execution_count": 21,
   "id": "f6f80d53",
   "metadata": {},
   "outputs": [],
   "source": [
    "def mean_var_std(list):\n",
    "  if len(list) != 9:\n",
    "    print(\"List must contain nine numbers.\")\n",
    "    return\n",
    "  array = np.array(list).reshape((3, 3))\n",
    "  print(\"Mean\")\n",
    "  print(np.mean(array, axis = 0))\n",
    "  print(np.mean(array, axis = 1))\n",
    "  print(np.mean(array))\n",
    "  print(\"\\nVariance\")\n",
    "  print(np.var(array, axis = 0))\n",
    "  print(np.var(array, axis = 1))\n",
    "  print(np.var(array))\n",
    "  print(\"\\nStandard Deviation\")\n",
    "  print(np.std(array, axis = 0))\n",
    "  print(np.std(array, axis = 1))\n",
    "  print(np.std(array))"
   ]
  },
  {
   "cell_type": "code",
   "execution_count": 22,
   "id": "2045d1db",
   "metadata": {},
   "outputs": [
    {
     "name": "stdout",
     "output_type": "stream",
     "text": [
      "Mean\n",
      "[3. 4. 5.]\n",
      "[1. 4. 7.]\n",
      "4.0\n",
      "\n",
      "Variance\n",
      "[6. 6. 6.]\n",
      "[0.66666667 0.66666667 0.66666667]\n",
      "6.666666666666667\n",
      "\n",
      "Standard Deviation\n",
      "[2.44948974 2.44948974 2.44948974]\n",
      "[0.81649658 0.81649658 0.81649658]\n",
      "2.581988897471611\n"
     ]
    }
   ],
   "source": [
    "mean_var_std([0,1,2,3,4,5,6,7,8])"
   ]
  },
  {
   "cell_type": "code",
   "execution_count": null,
   "id": "6b39facf",
   "metadata": {},
   "outputs": [],
   "source": []
  }
 ],
 "metadata": {
  "kernelspec": {
   "display_name": "Python 3 (ipykernel)",
   "language": "python",
   "name": "python3"
  },
  "language_info": {
   "codemirror_mode": {
    "name": "ipython",
    "version": 3
   },
   "file_extension": ".py",
   "mimetype": "text/x-python",
   "name": "python",
   "nbconvert_exporter": "python",
   "pygments_lexer": "ipython3",
   "version": "3.9.7"
  }
 },
 "nbformat": 4,
 "nbformat_minor": 5
}
